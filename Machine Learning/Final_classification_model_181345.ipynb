{
  "nbformat": 4,
  "nbformat_minor": 0,
  "metadata": {
    "colab": {
      "name": "Final classification model - 181345.ipynb",
      "version": "0.3.2",
      "provenance": [],
      "collapsed_sections": [
        "Lp71UwMuU1vs",
        "B3GoMu8gGaU8",
        "jJ8wNpmGmfKl",
        "KY0RrYIPB4hh",
        "jdtEwFOFx5p1",
        "DEPybzRQi0CG",
        "mQhLmfoUsr7w",
        "1YD8Yb6DtI5p",
        "P4CWfD86mTpG",
        "LGs6vQ5zx3NK",
        "BypOY-DtV-th",
        "ZY7QK1-_xoql",
        "zUgqhSN4P4zz"
      ],
      "toc_visible": true
    },
    "kernelspec": {
      "name": "python3",
      "display_name": "Python 3"
    },
    "accelerator": "GPU"
  },
  "cells": [
    {
      "cell_type": "markdown",
      "metadata": {
        "id": "M6RgrgFE8AxX",
        "colab_type": "text"
      },
      "source": [
        "## Primary Imports"
      ]
    },
    {
      "cell_type": "code",
      "metadata": {
        "id": "TY5Uf14v8EUO",
        "colab_type": "code",
        "colab": {}
      },
      "source": [
        "# Primary imports\n",
        "import numpy as np  \n",
        "import matplotlib.pyplot as plt  \n",
        "import pandas as pd \n",
        "from pprint import pprint\n",
        "import seaborn as sns\n",
        "\n",
        "\n",
        "# For data split \n",
        "from sklearn.model_selection import train_test_split\n",
        "from sklearn.model_selection import KFold\n",
        "\n",
        "# Import Classifier SVC\n",
        "from sklearn.svm import SVC\n",
        "from sklearn import svm\n",
        "\n",
        "# Evaluation\n",
        "from sklearn.metrics import classification_report, confusion_matrix\n",
        "\n",
        "#Grid Search\n",
        "from sklearn.model_selection import GridSearchCV\n",
        "\n",
        "# Random grid search\n",
        "from sklearn.model_selection import RandomizedSearchCV\n",
        "\n",
        "# Feature Scaling\n",
        "from sklearn.preprocessing import StandardScaler\n",
        "from sklearn.preprocessing import Normalizer\n",
        "from sklearn import preprocessing\n",
        "from sklearn.preprocessing import MinMaxScaler\n",
        "\n",
        "\n",
        "# Feature Selection\n",
        "from sklearn.decomposition import PCA\n",
        "\n",
        "# Cross validation\n",
        "from sklearn.model_selection import cross_val_score\n",
        "from statistics import mean\n",
        "\n",
        "# Data undersampling\n",
        "from imblearn.under_sampling import RandomUnderSampler\n",
        "from collections import Counter\n",
        "\n",
        "# Imports for Learning curve\n",
        "from sklearn.naive_bayes import GaussianNB\n",
        "from sklearn.datasets import load_digits\n",
        "from sklearn.model_selection import learning_curve\n",
        "from sklearn.model_selection import ShuffleSplit\n",
        "\n",
        "# Google colab import file\n",
        "from google.colab import files\n",
        "\n",
        "# Validation curve\n",
        "from sklearn.model_selection import validation_curve\n",
        "from sklearn.datasets import load_digits\n",
        "from sklearn.linear_model import Ridge"
      ],
      "execution_count": 0,
      "outputs": []
    },
    {
      "cell_type": "markdown",
      "metadata": {
        "id": "EFjHAr0oQVJ8",
        "colab_type": "text"
      },
      "source": [
        "# **SVC model using all CNN and GIST features**"
      ]
    },
    {
      "cell_type": "markdown",
      "metadata": {
        "id": "66hP1P0i8L22",
        "colab_type": "text"
      },
      "source": [
        "## **Loading training & test data**"
      ]
    },
    {
      "cell_type": "code",
      "metadata": {
        "id": "Y2iQP-Tq8Hn-",
        "colab_type": "code",
        "colab": {}
      },
      "source": [
        "# Loading and reading the training data\n",
        "training_data = pd.read_csv(\"training.csv\")\n",
        "# Loading and reading the testing data\n",
        "testing_data  = pd.read_csv(\"testing.csv\")\n",
        "# Loading and reading the additional training data\n",
        "additional_data = pd.read_csv(\"additional_training.csv\")\n",
        "# Loading the annotation confidence data\n",
        "annotation_data = pd.read_csv(\"annotation_confidence.csv\")"
      ],
      "execution_count": 0,
      "outputs": []
    },
    {
      "cell_type": "markdown",
      "metadata": {
        "id": "5LnAttw38TB4",
        "colab_type": "text"
      },
      "source": [
        "## **Preprocessing - Setting up the data**"
      ]
    },
    {
      "cell_type": "code",
      "metadata": {
        "id": "uQVuk2ED8JE-",
        "colab_type": "code",
        "colab": {}
      },
      "source": [
        "# Setting up the data\n",
        "df_train = training_data.values\n",
        "\n",
        "# Removing the titles and last column of the training data and assigning to X\n",
        "X = df_train[:, 1:-1]\n",
        "\n",
        "# Assigning y to the last column of the training data\n",
        "y = df_train[:, -1:]\n",
        "y = y.ravel()\n",
        "\n",
        "# Replacing the \"NaN\" values with the mean value of each column\n",
        "additional_data = additional_data.fillna(additional_data.mean())\n",
        "df_additional_data = additional_data.values\n",
        "ad = df_additional_data[:,1:-1]\n",
        "\n",
        "# Assigning ad_y to the last column of the additional training data\n",
        "ad_y = df_additional_data[:, -1:]\n",
        "ad_y = ad_y.ravel()\n",
        "\n",
        "# Testing values to generate the predictions\n",
        "df_test = testing_data.values\n",
        "testdata = df_test[:,1:]\n",
        "\n",
        "# Pre-processing the data to insert in fit\n",
        "df_annotation_confidence = annotation_data.values\n",
        "ac = df_annotation_confidence[:, -1:]"
      ],
      "execution_count": 0,
      "outputs": []
    },
    {
      "cell_type": "code",
      "metadata": {
        "id": "oV5Nbz8Xbl-x",
        "colab_type": "code",
        "colab": {}
      },
      "source": [
        "# Concatenate the training data and additional training data (NaN values contain the mean)\n",
        "# Concatenate the train X and additional train X\n",
        "X = np.concatenate((X,ad))\n",
        "# Concatenate the train y and additional train y\n",
        "y = np.concatenate((y,ad_y))"
      ],
      "execution_count": 0,
      "outputs": []
    },
    {
      "cell_type": "markdown",
      "metadata": {
        "id": "aZo6ZK8N85AP",
        "colab_type": "text"
      },
      "source": [
        "## **Preprocessing**"
      ]
    },
    {
      "cell_type": "markdown",
      "metadata": {
        "id": "cf0iacxaj55r",
        "colab_type": "text"
      },
      "source": [
        "### **Normalization - most optimal**\n",
        "run this cell"
      ]
    },
    {
      "cell_type": "code",
      "metadata": {
        "id": "BUPHnUvB893A",
        "colab_type": "code",
        "colab": {}
      },
      "source": [
        "# Applying standard normalization to get optimized results\n",
        "transformer = Normalizer().fit(X)\n",
        "# Normalizing the X data\n",
        "X = transformer.transform(X)\n",
        "# Normalizing the test data\n",
        "testdata = transformer.transform(testdata)"
      ],
      "execution_count": 0,
      "outputs": []
    },
    {
      "cell_type": "markdown",
      "metadata": {
        "id": "Lp71UwMuU1vs",
        "colab_type": "text"
      },
      "source": [
        "### Binarization"
      ]
    },
    {
      "cell_type": "code",
      "metadata": {
        "id": "jA46xz-EU1A8",
        "colab_type": "code",
        "colab": {}
      },
      "source": [
        "# Applying binarization as an alternative preprocessing method\n",
        "# Binarize the X values\n",
        "X = preprocessing.Binarizer(threshold=0.6).transform(X)\n",
        "testdata = preprocessing.Binarizer(threshold=0.6).transform(testdata)"
      ],
      "execution_count": 0,
      "outputs": []
    },
    {
      "cell_type": "markdown",
      "metadata": {
        "id": "B3GoMu8gGaU8",
        "colab_type": "text"
      },
      "source": [
        "### Min-Max"
      ]
    },
    {
      "cell_type": "code",
      "metadata": {
        "id": "-tyLqupDGZn8",
        "colab_type": "code",
        "colab": {}
      },
      "source": [
        "# Applying MinMax scaling the data whilst preserving the shape of the original distribution. \n",
        "# It doesn’t meaningfully change the information embedded in the original data.\n",
        "scaler = MinMaxScaler()\n",
        "X = scaler.fit_transform(X)\n",
        "testdata = scaler.transform(testdata)"
      ],
      "execution_count": 0,
      "outputs": []
    },
    {
      "cell_type": "markdown",
      "metadata": {
        "id": "jJ8wNpmGmfKl",
        "colab_type": "text"
      },
      "source": [
        "## **Standardization**"
      ]
    },
    {
      "cell_type": "code",
      "metadata": {
        "id": "qz2TuLnxmeQo",
        "colab_type": "code",
        "colab": {}
      },
      "source": [
        "# Applying standardization as a means of pre-processing.\n",
        "scaler = StandardScaler()\n",
        "X = scaler.fit_transform(X)\n",
        "testdata = scaler.fit_transform(testdata)"
      ],
      "execution_count": 0,
      "outputs": []
    },
    {
      "cell_type": "markdown",
      "metadata": {
        "id": "t1dNvBQxY2KL",
        "colab_type": "text"
      },
      "source": [
        "## **Data undersampling - most optimal**\n",
        "run this cell"
      ]
    },
    {
      "cell_type": "code",
      "metadata": {
        "id": "i6JsiaVwY1ve",
        "colab_type": "code",
        "outputId": "79ae3e2d-99f3-4b58-9152-35a5eb6e2654",
        "colab": {
          "base_uri": "https://localhost:8080/",
          "height": 34
        }
      },
      "source": [
        "# Applying data undersampling to balance the train and test value split\n",
        "rus = RandomUnderSampler(random_state=42)\n",
        "X_res, y_res = rus.fit_resample(X, y)\n",
        "print('Resampled dataset shape %s' % Counter(y_res))\n",
        "confidence_labels = []\n",
        "\n",
        "for index in rus.sample_indices_:\n",
        "  confidence_labels.extend(ac[index])\n",
        "confidence_values = np.asarray(confidence_labels, dtype = np.float32)"
      ],
      "execution_count": 229,
      "outputs": [
        {
          "output_type": "stream",
          "text": [
            "Resampled dataset shape Counter({0.0: 1035, 1.0: 1035})\n"
          ],
          "name": "stdout"
        }
      ]
    },
    {
      "cell_type": "markdown",
      "metadata": {
        "id": "KY0RrYIPB4hh",
        "colab_type": "text"
      },
      "source": [
        "## **Manual data undersampling** "
      ]
    },
    {
      "cell_type": "code",
      "metadata": {
        "id": "BDzL8deCNJBU",
        "colab_type": "code",
        "outputId": "b1129809-ef20-4f04-bdcd-6520cc76dfc4",
        "colab": {
          "base_uri": "https://localhost:8080/",
          "height": 68
        }
      },
      "source": [
        "count1 = 0\n",
        "count2 = 0\n",
        "ac_list = [] \n",
        "feature_list = []\n",
        "label_list = []\n",
        "for i,feature in enumerate(X):\n",
        "  if count1 < 1035 and y[i] == 1:\n",
        "    count1 = count1 + 1\n",
        "    ac_list.extend(ac[i])\n",
        "    label_list.append(y[i])\n",
        "    feature_list.append(feature)\n",
        "  if count2 < 1035 and y[i] == 0:\n",
        "    count2 = count2 + 1\n",
        "    ac_list.extend(ac[i])\n",
        "    label_list.append(y[i])\n",
        "    feature_list.append(feature)\n",
        "  if count1 + count2 == 2070:\n",
        "    break\n",
        "\n",
        "X = np.array(feature_list)\n",
        "y = label_list\n",
        "sample_weight = ac_list\n",
        "print(len(X))\n",
        "print(len(y))\n",
        "print(len(sample_weight))"
      ],
      "execution_count": 0,
      "outputs": [
        {
          "output_type": "stream",
          "text": [
            "2070\n",
            "2070\n",
            "2070\n"
          ],
          "name": "stdout"
        }
      ]
    },
    {
      "cell_type": "markdown",
      "metadata": {
        "id": "nAQoEPTx-odh",
        "colab_type": "text"
      },
      "source": [
        "## **Feature Selection - PCA - most optimal**\n",
        "run this cell"
      ]
    },
    {
      "cell_type": "code",
      "metadata": {
        "id": "UmLuQNwA-VZA",
        "colab_type": "code",
        "colab": {}
      },
      "source": [
        "# Applying principal component analysis (PCA) to reduce the dimensionality of the training data set consisting of\n",
        "# a variation of values.\n",
        "pca = PCA(n_components=0.86, copy=True, whiten=False, svd_solver='auto', tol=0.0, iterated_power='auto', random_state=None)\n",
        "pca.fit(X_res)\n",
        "X_res = pca.transform(X_res)\n",
        "testdata = pca.transform(testdata)"
      ],
      "execution_count": 0,
      "outputs": []
    },
    {
      "cell_type": "markdown",
      "metadata": {
        "id": "jdtEwFOFx5p1",
        "colab_type": "text"
      },
      "source": [
        "# Grid search investigation "
      ]
    },
    {
      "cell_type": "markdown",
      "metadata": {
        "id": "DEPybzRQi0CG",
        "colab_type": "text"
      },
      "source": [
        "## **Feature Selection - PCA (Grid Search)**"
      ]
    },
    {
      "cell_type": "code",
      "metadata": {
        "id": "E1__Uwpai-s9",
        "colab_type": "code",
        "colab": {}
      },
      "source": [
        "# Applying principal component analysis (PCA) to reduce the dimensionality of the training data set consisting of\n",
        "# a variation of values. Running additional grid search to find the optimal n_components value for PCA.\n",
        "pca_grid = PCA()\n",
        "param_grid = {'n_components' : np.linspace(0.1,0.9)}\n",
        "grid_search_pca = GridSearchCV(pca_grid,param_grid, cv = 5, n_jobs = -1, verbose = 10)\n",
        "grid_search_pca.fit(X_res,y_res.ravel())"
      ],
      "execution_count": 0,
      "outputs": []
    },
    {
      "cell_type": "code",
      "metadata": {
        "id": "3OgnbclH--hd",
        "colab_type": "code",
        "outputId": "6cbc06fb-2ebb-4c59-c6ad-7b7b95406386",
        "colab": {
          "base_uri": "https://localhost:8080/",
          "height": 34
        }
      },
      "source": [
        "print(grid_search_pca.best_params_)"
      ],
      "execution_count": 0,
      "outputs": [
        {
          "output_type": "stream",
          "text": [
            "{'n_components': 0.9}\n"
          ],
          "name": "stdout"
        }
      ]
    },
    {
      "cell_type": "markdown",
      "metadata": {
        "id": "mQhLmfoUsr7w",
        "colab_type": "text"
      },
      "source": [
        "## **Examining the SVC to determine parameters**"
      ]
    },
    {
      "cell_type": "code",
      "metadata": {
        "id": "59FrfzsosrWZ",
        "colab_type": "code",
        "outputId": "e225d53b-9173-46e0-a38d-969ccf4269d1",
        "colab": {
          "base_uri": "https://localhost:8080/",
          "height": 289
        }
      },
      "source": [
        "# Examining the SVC default parameters for the different grid search methods\n",
        "svc = SVC(C = 1, kernel = 'rbf',random_state = 42)\n",
        "\n",
        "# Displaying the default parameters\n",
        "print('Parameters currently in use:\\n')\n",
        "pprint(svc.get_params())"
      ],
      "execution_count": 0,
      "outputs": [
        {
          "output_type": "stream",
          "text": [
            "Parameters currently in use:\n",
            "\n",
            "{'C': 1.0,\n",
            " 'cache_size': 200,\n",
            " 'class_weight': None,\n",
            " 'coef0': 0.0,\n",
            " 'decision_function_shape': 'ovr',\n",
            " 'degree': 3,\n",
            " 'gamma': 'auto_deprecated',\n",
            " 'kernel': 'rbf',\n",
            " 'max_iter': -1,\n",
            " 'probability': False,\n",
            " 'random_state': 42,\n",
            " 'shrinking': True,\n",
            " 'tol': 0.001,\n",
            " 'verbose': False}\n"
          ],
          "name": "stdout"
        }
      ]
    },
    {
      "cell_type": "markdown",
      "metadata": {
        "id": "1YD8Yb6DtI5p",
        "colab_type": "text"
      },
      "source": [
        "## **Random Search with Cross Validation**"
      ]
    },
    {
      "cell_type": "code",
      "metadata": {
        "id": "UoeH0Ph_tNYJ",
        "colab_type": "code",
        "outputId": "f3b369e9-62ad-49bf-f270-312067772d80",
        "colab": {
          "base_uri": "https://localhost:8080/",
          "height": 68
        }
      },
      "source": [
        "# Running a Random grid search to optimize the hyperparameters\n",
        "# C values\n",
        "C = [0.001, 0.01, 0.1, 1, 10, 100, 1000]\n",
        "# Gamma values\n",
        "gamma = [0.001, 0.01, 0.1, 1, 5, 10, 100]\n",
        "# Kernel values\n",
        "kernel = ['rbf','linear']\n",
        "# Creating the random grid\n",
        "random_grid = {'C': C,'gamma': gammas,'kernel': kernel}\n",
        "pprint(random_grid)"
      ],
      "execution_count": 0,
      "outputs": [
        {
          "output_type": "stream",
          "text": [
            "{'C': [0.001, 0.01, 0.1, 1, 10, 100, 1000],\n",
            " 'gamma': [0.001, 0.01, 0.1, 1, 5, 10, 100],\n",
            " 'kernel': ['rbf', 'linear']}\n"
          ],
          "name": "stdout"
        }
      ]
    },
    {
      "cell_type": "code",
      "metadata": {
        "id": "paepHM9bur_n",
        "colab_type": "code",
        "outputId": "c420615c-02d6-40fa-fb9f-cf0e23a2aaa0",
        "colab": {
          "base_uri": "https://localhost:8080/",
          "height": 615
        }
      },
      "source": [
        "# Using the random grid to search for best hyperparameters\n",
        "# Creating the base model to tune the model\n",
        "svc = SVC(random_state = 42)\n",
        "# Random search of parameters, using 5 fold cross validation, \n",
        "# search across 100 different combinations, and using all available cores\n",
        "svc_random = RandomizedSearchCV(estimator=svc, param_distributions=random_grid,n_iter = 100, scoring='accuracy',cv = 5, verbose=10, random_state=42, n_jobs=-1,return_train_score=True)\n",
        "# Fit the random search model\n",
        "svc_random.fit(X_res, y_res);"
      ],
      "execution_count": 0,
      "outputs": [
        {
          "output_type": "stream",
          "text": [
            "Fitting 5 folds for each of 98 candidates, totalling 490 fits\n"
          ],
          "name": "stdout"
        },
        {
          "output_type": "stream",
          "text": [
            "/usr/local/lib/python3.6/dist-packages/sklearn/model_selection/_search.py:271: UserWarning: The total space of parameters 98 is smaller than n_iter=100. Running 98 iterations. For exhaustive searches, use GridSearchCV.\n",
            "  % (grid_size, self.n_iter, grid_size), UserWarning)\n",
            "[Parallel(n_jobs=-1)]: Using backend LokyBackend with 2 concurrent workers.\n",
            "[Parallel(n_jobs=-1)]: Done   1 tasks      | elapsed:    6.5s\n",
            "[Parallel(n_jobs=-1)]: Done   4 tasks      | elapsed:   12.2s\n",
            "[Parallel(n_jobs=-1)]: Done   9 tasks      | elapsed:   28.4s\n",
            "[Parallel(n_jobs=-1)]: Done  14 tasks      | elapsed:   41.4s\n",
            "[Parallel(n_jobs=-1)]: Done  21 tasks      | elapsed:  1.1min\n",
            "[Parallel(n_jobs=-1)]: Done  28 tasks      | elapsed:  1.3min\n",
            "[Parallel(n_jobs=-1)]: Done  37 tasks      | elapsed:  1.8min\n",
            "[Parallel(n_jobs=-1)]: Done  46 tasks      | elapsed:  2.2min\n",
            "[Parallel(n_jobs=-1)]: Done  57 tasks      | elapsed:  2.7min\n",
            "[Parallel(n_jobs=-1)]: Done  68 tasks      | elapsed:  3.2min\n",
            "[Parallel(n_jobs=-1)]: Done  81 tasks      | elapsed:  3.9min\n",
            "[Parallel(n_jobs=-1)]: Done  94 tasks      | elapsed:  4.4min\n",
            "[Parallel(n_jobs=-1)]: Done 109 tasks      | elapsed:  5.2min\n",
            "[Parallel(n_jobs=-1)]: Done 124 tasks      | elapsed:  5.9min\n",
            "[Parallel(n_jobs=-1)]: Done 141 tasks      | elapsed:  6.7min\n",
            "[Parallel(n_jobs=-1)]: Done 158 tasks      | elapsed:  7.4min\n",
            "[Parallel(n_jobs=-1)]: Done 177 tasks      | elapsed:  8.2min\n",
            "[Parallel(n_jobs=-1)]: Done 196 tasks      | elapsed:  9.0min\n",
            "[Parallel(n_jobs=-1)]: Done 217 tasks      | elapsed:  9.9min\n",
            "[Parallel(n_jobs=-1)]: Done 238 tasks      | elapsed: 10.7min\n",
            "[Parallel(n_jobs=-1)]: Done 261 tasks      | elapsed: 11.6min\n",
            "[Parallel(n_jobs=-1)]: Done 284 tasks      | elapsed: 12.5min\n",
            "[Parallel(n_jobs=-1)]: Done 309 tasks      | elapsed: 13.4min\n",
            "[Parallel(n_jobs=-1)]: Done 334 tasks      | elapsed: 14.3min\n",
            "[Parallel(n_jobs=-1)]: Done 361 tasks      | elapsed: 15.3min\n",
            "[Parallel(n_jobs=-1)]: Done 388 tasks      | elapsed: 16.3min\n",
            "[Parallel(n_jobs=-1)]: Done 417 tasks      | elapsed: 17.6min\n",
            "[Parallel(n_jobs=-1)]: Done 446 tasks      | elapsed: 19.5min\n",
            "[Parallel(n_jobs=-1)]: Done 477 tasks      | elapsed: 22.1min\n",
            "[Parallel(n_jobs=-1)]: Done 490 out of 490 | elapsed: 23.3min finished\n"
          ],
          "name": "stderr"
        }
      ]
    },
    {
      "cell_type": "code",
      "metadata": {
        "id": "D-by4j-2vrsU",
        "colab_type": "code",
        "outputId": "8634ff19-9087-4479-9d9b-1a2314855b14",
        "colab": {
          "base_uri": "https://localhost:8080/",
          "height": 34
        }
      },
      "source": [
        "# Returning the best parameters\n",
        "svc_random.best_params_"
      ],
      "execution_count": 0,
      "outputs": [
        {
          "output_type": "execute_result",
          "data": {
            "text/plain": [
              "{'C': 1, 'gamma': 0.001, 'kernel': 'linear'}"
            ]
          },
          "metadata": {
            "tags": []
          },
          "execution_count": 124
        }
      ]
    },
    {
      "cell_type": "markdown",
      "metadata": {
        "id": "P4CWfD86mTpG",
        "colab_type": "text"
      },
      "source": [
        "## **SVC Classifier - Grid Search**\n",
        "We can now perform grid search building on the result from the random search. We will test a range of hyperparameters around the best values returned by random search"
      ]
    },
    {
      "cell_type": "code",
      "metadata": {
        "id": "9hCAPIQow8Qu",
        "colab_type": "code",
        "colab": {}
      },
      "source": [
        "# Creating the parameter grid based on the results of random search \n",
        "param_grid = {'C': [1,1.1,1.2,1.3,1.4,1.5,1.6,1.7,1.8,1.9,2],'gamma': [0.001, 0.0012,0.0013,0.0014,0.0015,0.0016],'kernel': ['linear']}\n",
        "# Creating a base model\n",
        "svc = SVC(random_state = 42)\n",
        "# Instantiate the grid search model\n",
        "grid_search_svc = GridSearchCV(estimator = svm.SVC(), param_grid = param_grid, cv = 5, n_jobs = -1, verbose = 10,return_train_score=True)"
      ],
      "execution_count": 0,
      "outputs": []
    },
    {
      "cell_type": "code",
      "metadata": {
        "id": "iqYade8Txe-N",
        "colab_type": "code",
        "colab": {}
      },
      "source": [
        "# Fit the grid search to the data\n",
        "grid_search_svc.fit(X_res, y_res)"
      ],
      "execution_count": 0,
      "outputs": []
    },
    {
      "cell_type": "code",
      "metadata": {
        "id": "bYSxWQATxoPh",
        "colab_type": "code",
        "colab": {}
      },
      "source": [
        "# Returning the most optimial grid search\n",
        "grid_search_svc.best_params_"
      ],
      "execution_count": 0,
      "outputs": []
    },
    {
      "cell_type": "markdown",
      "metadata": {
        "id": "LGs6vQ5zx3NK",
        "colab_type": "text"
      },
      "source": [
        "## **Additional grid search for maximal optmization**"
      ]
    },
    {
      "cell_type": "code",
      "metadata": {
        "id": "4gQsTFYUx6HI",
        "colab_type": "code",
        "outputId": "4489232b-f946-4e5b-d4d4-e60a589e2723",
        "colab": {
          "base_uri": "https://localhost:8080/",
          "height": 493
        }
      },
      "source": [
        "# Create the parameter grid based on the results of random search \n",
        "param_grid = {'C': [1.5,1.51,1.52,1.53,1.54,1.55,1.56,1.57,1.58,1.59,1.6],'gamma': [0.001,0.0011,0.00112,0.001123,0.0011234,0.00112345,0.00112345],'kernel': ['linear']}\n",
        "# Creating a base model\n",
        "svc = SVC(random_state = 42)\n",
        "# Instantiating the grid search model\n",
        "grid_search_svc_final = GridSearchCV(estimator = svm.SVC(), param_grid = param_grid, cv = 5, n_jobs = -1, verbose = 10,return_train_score=True)\n",
        "grid_search_svc_final.fit(X_res, y_res);"
      ],
      "execution_count": 0,
      "outputs": [
        {
          "output_type": "stream",
          "text": [
            "Fitting 5 folds for each of 77 candidates, totalling 385 fits\n"
          ],
          "name": "stdout"
        },
        {
          "output_type": "stream",
          "text": [
            "[Parallel(n_jobs=-1)]: Using backend LokyBackend with 2 concurrent workers.\n",
            "[Parallel(n_jobs=-1)]: Done   1 tasks      | elapsed:    4.0s\n",
            "[Parallel(n_jobs=-1)]: Done   4 tasks      | elapsed:    8.4s\n",
            "[Parallel(n_jobs=-1)]: Done   9 tasks      | elapsed:   20.1s\n",
            "[Parallel(n_jobs=-1)]: Done  14 tasks      | elapsed:   27.6s\n",
            "[Parallel(n_jobs=-1)]: Done  21 tasks      | elapsed:   42.2s\n",
            "[Parallel(n_jobs=-1)]: Done  28 tasks      | elapsed:   55.0s\n",
            "[Parallel(n_jobs=-1)]: Done  37 tasks      | elapsed:  1.2min\n",
            "[Parallel(n_jobs=-1)]: Done  46 tasks      | elapsed:  1.5min\n",
            "[Parallel(n_jobs=-1)]: Done  57 tasks      | elapsed:  1.9min\n",
            "[Parallel(n_jobs=-1)]: Done  68 tasks      | elapsed:  2.2min\n",
            "[Parallel(n_jobs=-1)]: Done  81 tasks      | elapsed:  2.6min\n",
            "[Parallel(n_jobs=-1)]: Done  94 tasks      | elapsed:  3.0min\n",
            "[Parallel(n_jobs=-1)]: Done 109 tasks      | elapsed:  3.5min\n",
            "[Parallel(n_jobs=-1)]: Done 124 tasks      | elapsed:  3.9min\n",
            "[Parallel(n_jobs=-1)]: Done 141 tasks      | elapsed:  4.5min\n",
            "[Parallel(n_jobs=-1)]: Done 158 tasks      | elapsed:  5.0min\n",
            "[Parallel(n_jobs=-1)]: Done 177 tasks      | elapsed:  5.6min\n",
            "[Parallel(n_jobs=-1)]: Done 196 tasks      | elapsed:  6.2min\n",
            "[Parallel(n_jobs=-1)]: Done 217 tasks      | elapsed:  6.9min\n",
            "[Parallel(n_jobs=-1)]: Done 238 tasks      | elapsed:  7.5min\n",
            "[Parallel(n_jobs=-1)]: Done 261 tasks      | elapsed:  8.2min\n",
            "[Parallel(n_jobs=-1)]: Done 284 tasks      | elapsed:  8.9min\n",
            "[Parallel(n_jobs=-1)]: Done 309 tasks      | elapsed:  9.7min\n",
            "[Parallel(n_jobs=-1)]: Done 334 tasks      | elapsed: 10.4min\n",
            "[Parallel(n_jobs=-1)]: Done 361 tasks      | elapsed: 11.3min\n",
            "[Parallel(n_jobs=-1)]: Done 385 out of 385 | elapsed: 12.0min finished\n"
          ],
          "name": "stderr"
        }
      ]
    },
    {
      "cell_type": "code",
      "metadata": {
        "id": "e6Yly0Ngx-9g",
        "colab_type": "code",
        "outputId": "ca5f0433-5fac-45ba-f838-4c6d7e36656e",
        "colab": {
          "base_uri": "https://localhost:8080/",
          "height": 34
        }
      },
      "source": [
        "# Returning the most optimal parameters\n",
        "grid_search_svc_final.best_params_"
      ],
      "execution_count": 0,
      "outputs": [
        {
          "output_type": "execute_result",
          "data": {
            "text/plain": [
              "{'C': 1.5, 'gamma': 0.001, 'kernel': 'linear'}"
            ]
          },
          "metadata": {
            "tags": []
          },
          "execution_count": 155
        }
      ]
    },
    {
      "cell_type": "markdown",
      "metadata": {
        "id": "z9Y2rHaR_Gyg",
        "colab_type": "text"
      },
      "source": [
        "# **SVC Classifier - final model implementation**\n",
        "The final model with the hyperparameters returned above."
      ]
    },
    {
      "cell_type": "code",
      "metadata": {
        "id": "DlXbGHzGaFNI",
        "colab_type": "code",
        "colab": {
          "base_uri": "https://localhost:8080/",
          "height": 85
        },
        "outputId": "d798e18b-9f8e-4902-cbdc-51b5d0f43dce"
      },
      "source": [
        "# Implementing the final SVC model with the optimal parameters\n",
        "# The values from the confidence values are passed into the sample weights\n",
        "#final_model = grid_search_svc.best_estimator_\n",
        "svc = SVC(C=1.5, kernel='linear', gamma=0.001)\n",
        "svc.fit(X_res,y_res,sample_weight = confidence_values)"
      ],
      "execution_count": 231,
      "outputs": [
        {
          "output_type": "execute_result",
          "data": {
            "text/plain": [
              "SVC(C=1.5, cache_size=200, class_weight=None, coef0=0.0,\n",
              "  decision_function_shape='ovr', degree=3, gamma=0.001, kernel='linear',\n",
              "  max_iter=-1, probability=False, random_state=None, shrinking=True,\n",
              "  tol=0.001, verbose=False)"
            ]
          },
          "metadata": {
            "tags": []
          },
          "execution_count": 231
        }
      ]
    },
    {
      "cell_type": "code",
      "metadata": {
        "id": "AQWMTv1zbF0b",
        "colab_type": "code",
        "colab": {}
      },
      "source": [
        "y_pred = svc.predict(testdata)"
      ],
      "execution_count": 0,
      "outputs": []
    },
    {
      "cell_type": "markdown",
      "metadata": {
        "id": "1XUkAC3E8ZXI",
        "colab_type": "text"
      },
      "source": [
        "## Cross Validation"
      ]
    },
    {
      "cell_type": "code",
      "metadata": {
        "id": "lUBsac7K8YSw",
        "colab_type": "code",
        "outputId": "0aac452c-defe-4d49-f41b-45caeaa8d0b7",
        "colab": {
          "base_uri": "https://localhost:8080/",
          "height": 119
        }
      },
      "source": [
        "# Returning the cross validation score using KFolds. \n",
        "scores = cross_val_score(svc, X_res, y_res,cv=15, n_jobs=-1, verbose=10)\n",
        "print(mean(scores))"
      ],
      "execution_count": 234,
      "outputs": [
        {
          "output_type": "stream",
          "text": [
            "[Parallel(n_jobs=-1)]: Using backend LokyBackend with 2 concurrent workers.\n",
            "[Parallel(n_jobs=-1)]: Done   1 tasks      | elapsed:    2.6s\n",
            "[Parallel(n_jobs=-1)]: Done   4 tasks      | elapsed:    5.1s\n",
            "[Parallel(n_jobs=-1)]: Done   9 tasks      | elapsed:   12.7s\n"
          ],
          "name": "stderr"
        },
        {
          "output_type": "stream",
          "text": [
            "0.7115942028985507\n"
          ],
          "name": "stdout"
        },
        {
          "output_type": "stream",
          "text": [
            "[Parallel(n_jobs=-1)]: Done  15 out of  15 | elapsed:   20.1s finished\n"
          ],
          "name": "stderr"
        }
      ]
    },
    {
      "cell_type": "markdown",
      "metadata": {
        "id": "iaahV8thfrCd",
        "colab_type": "text"
      },
      "source": [
        "## **Submission creation for Kaggle competition**"
      ]
    },
    {
      "cell_type": "code",
      "metadata": {
        "id": "5h4uw7r3fqZP",
        "colab_type": "code",
        "outputId": "f026d634-c81d-412f-b69e-c18fbd849e30",
        "colab": {
          "base_uri": "https://localhost:8080/",
          "height": 34
        }
      },
      "source": [
        "# Creating a nump list of integers from 1 - 2819 to add as header\n",
        "ID = np.arange(1,2819)\n",
        "print(ID)"
      ],
      "execution_count": 238,
      "outputs": [
        {
          "output_type": "stream",
          "text": [
            "[   1    2    3 ... 2816 2817 2818]\n"
          ],
          "name": "stdout"
        }
      ]
    },
    {
      "cell_type": "code",
      "metadata": {
        "id": "C-NyjnU9ft3c",
        "colab_type": "code",
        "colab": {
          "base_uri": "https://localhost:8080/",
          "height": 1969
        },
        "outputId": "0a0a9045-d6de-40d0-e948-b610c3a98ce0"
      },
      "source": [
        "# Creating the pandas dataframe containing the ID values and the Prediction values\n",
        "# for Kaggle submission\n",
        "final = [int(x) for x in y_pred]\n",
        "dataset = pd.DataFrame({'ID':ID,'prediction':final})\n",
        "dataset"
      ],
      "execution_count": 236,
      "outputs": [
        {
          "output_type": "execute_result",
          "data": {
            "text/html": [
              "<div>\n",
              "<style scoped>\n",
              "    .dataframe tbody tr th:only-of-type {\n",
              "        vertical-align: middle;\n",
              "    }\n",
              "\n",
              "    .dataframe tbody tr th {\n",
              "        vertical-align: top;\n",
              "    }\n",
              "\n",
              "    .dataframe thead th {\n",
              "        text-align: right;\n",
              "    }\n",
              "</style>\n",
              "<table border=\"1\" class=\"dataframe\">\n",
              "  <thead>\n",
              "    <tr style=\"text-align: right;\">\n",
              "      <th></th>\n",
              "      <th>ID</th>\n",
              "      <th>prediction</th>\n",
              "    </tr>\n",
              "  </thead>\n",
              "  <tbody>\n",
              "    <tr>\n",
              "      <th>0</th>\n",
              "      <td>1</td>\n",
              "      <td>1</td>\n",
              "    </tr>\n",
              "    <tr>\n",
              "      <th>1</th>\n",
              "      <td>2</td>\n",
              "      <td>0</td>\n",
              "    </tr>\n",
              "    <tr>\n",
              "      <th>2</th>\n",
              "      <td>3</td>\n",
              "      <td>1</td>\n",
              "    </tr>\n",
              "    <tr>\n",
              "      <th>3</th>\n",
              "      <td>4</td>\n",
              "      <td>0</td>\n",
              "    </tr>\n",
              "    <tr>\n",
              "      <th>4</th>\n",
              "      <td>5</td>\n",
              "      <td>0</td>\n",
              "    </tr>\n",
              "    <tr>\n",
              "      <th>5</th>\n",
              "      <td>6</td>\n",
              "      <td>1</td>\n",
              "    </tr>\n",
              "    <tr>\n",
              "      <th>6</th>\n",
              "      <td>7</td>\n",
              "      <td>0</td>\n",
              "    </tr>\n",
              "    <tr>\n",
              "      <th>7</th>\n",
              "      <td>8</td>\n",
              "      <td>1</td>\n",
              "    </tr>\n",
              "    <tr>\n",
              "      <th>8</th>\n",
              "      <td>9</td>\n",
              "      <td>1</td>\n",
              "    </tr>\n",
              "    <tr>\n",
              "      <th>9</th>\n",
              "      <td>10</td>\n",
              "      <td>0</td>\n",
              "    </tr>\n",
              "    <tr>\n",
              "      <th>10</th>\n",
              "      <td>11</td>\n",
              "      <td>0</td>\n",
              "    </tr>\n",
              "    <tr>\n",
              "      <th>11</th>\n",
              "      <td>12</td>\n",
              "      <td>1</td>\n",
              "    </tr>\n",
              "    <tr>\n",
              "      <th>12</th>\n",
              "      <td>13</td>\n",
              "      <td>1</td>\n",
              "    </tr>\n",
              "    <tr>\n",
              "      <th>13</th>\n",
              "      <td>14</td>\n",
              "      <td>0</td>\n",
              "    </tr>\n",
              "    <tr>\n",
              "      <th>14</th>\n",
              "      <td>15</td>\n",
              "      <td>1</td>\n",
              "    </tr>\n",
              "    <tr>\n",
              "      <th>15</th>\n",
              "      <td>16</td>\n",
              "      <td>1</td>\n",
              "    </tr>\n",
              "    <tr>\n",
              "      <th>16</th>\n",
              "      <td>17</td>\n",
              "      <td>0</td>\n",
              "    </tr>\n",
              "    <tr>\n",
              "      <th>17</th>\n",
              "      <td>18</td>\n",
              "      <td>1</td>\n",
              "    </tr>\n",
              "    <tr>\n",
              "      <th>18</th>\n",
              "      <td>19</td>\n",
              "      <td>0</td>\n",
              "    </tr>\n",
              "    <tr>\n",
              "      <th>19</th>\n",
              "      <td>20</td>\n",
              "      <td>1</td>\n",
              "    </tr>\n",
              "    <tr>\n",
              "      <th>20</th>\n",
              "      <td>21</td>\n",
              "      <td>0</td>\n",
              "    </tr>\n",
              "    <tr>\n",
              "      <th>21</th>\n",
              "      <td>22</td>\n",
              "      <td>1</td>\n",
              "    </tr>\n",
              "    <tr>\n",
              "      <th>22</th>\n",
              "      <td>23</td>\n",
              "      <td>1</td>\n",
              "    </tr>\n",
              "    <tr>\n",
              "      <th>23</th>\n",
              "      <td>24</td>\n",
              "      <td>1</td>\n",
              "    </tr>\n",
              "    <tr>\n",
              "      <th>24</th>\n",
              "      <td>25</td>\n",
              "      <td>0</td>\n",
              "    </tr>\n",
              "    <tr>\n",
              "      <th>25</th>\n",
              "      <td>26</td>\n",
              "      <td>0</td>\n",
              "    </tr>\n",
              "    <tr>\n",
              "      <th>26</th>\n",
              "      <td>27</td>\n",
              "      <td>1</td>\n",
              "    </tr>\n",
              "    <tr>\n",
              "      <th>27</th>\n",
              "      <td>28</td>\n",
              "      <td>0</td>\n",
              "    </tr>\n",
              "    <tr>\n",
              "      <th>28</th>\n",
              "      <td>29</td>\n",
              "      <td>1</td>\n",
              "    </tr>\n",
              "    <tr>\n",
              "      <th>29</th>\n",
              "      <td>30</td>\n",
              "      <td>1</td>\n",
              "    </tr>\n",
              "    <tr>\n",
              "      <th>...</th>\n",
              "      <td>...</td>\n",
              "      <td>...</td>\n",
              "    </tr>\n",
              "    <tr>\n",
              "      <th>2788</th>\n",
              "      <td>2789</td>\n",
              "      <td>1</td>\n",
              "    </tr>\n",
              "    <tr>\n",
              "      <th>2789</th>\n",
              "      <td>2790</td>\n",
              "      <td>1</td>\n",
              "    </tr>\n",
              "    <tr>\n",
              "      <th>2790</th>\n",
              "      <td>2791</td>\n",
              "      <td>1</td>\n",
              "    </tr>\n",
              "    <tr>\n",
              "      <th>2791</th>\n",
              "      <td>2792</td>\n",
              "      <td>1</td>\n",
              "    </tr>\n",
              "    <tr>\n",
              "      <th>2792</th>\n",
              "      <td>2793</td>\n",
              "      <td>1</td>\n",
              "    </tr>\n",
              "    <tr>\n",
              "      <th>2793</th>\n",
              "      <td>2794</td>\n",
              "      <td>1</td>\n",
              "    </tr>\n",
              "    <tr>\n",
              "      <th>2794</th>\n",
              "      <td>2795</td>\n",
              "      <td>1</td>\n",
              "    </tr>\n",
              "    <tr>\n",
              "      <th>2795</th>\n",
              "      <td>2796</td>\n",
              "      <td>1</td>\n",
              "    </tr>\n",
              "    <tr>\n",
              "      <th>2796</th>\n",
              "      <td>2797</td>\n",
              "      <td>1</td>\n",
              "    </tr>\n",
              "    <tr>\n",
              "      <th>2797</th>\n",
              "      <td>2798</td>\n",
              "      <td>0</td>\n",
              "    </tr>\n",
              "    <tr>\n",
              "      <th>2798</th>\n",
              "      <td>2799</td>\n",
              "      <td>0</td>\n",
              "    </tr>\n",
              "    <tr>\n",
              "      <th>2799</th>\n",
              "      <td>2800</td>\n",
              "      <td>1</td>\n",
              "    </tr>\n",
              "    <tr>\n",
              "      <th>2800</th>\n",
              "      <td>2801</td>\n",
              "      <td>0</td>\n",
              "    </tr>\n",
              "    <tr>\n",
              "      <th>2801</th>\n",
              "      <td>2802</td>\n",
              "      <td>0</td>\n",
              "    </tr>\n",
              "    <tr>\n",
              "      <th>2802</th>\n",
              "      <td>2803</td>\n",
              "      <td>0</td>\n",
              "    </tr>\n",
              "    <tr>\n",
              "      <th>2803</th>\n",
              "      <td>2804</td>\n",
              "      <td>1</td>\n",
              "    </tr>\n",
              "    <tr>\n",
              "      <th>2804</th>\n",
              "      <td>2805</td>\n",
              "      <td>0</td>\n",
              "    </tr>\n",
              "    <tr>\n",
              "      <th>2805</th>\n",
              "      <td>2806</td>\n",
              "      <td>1</td>\n",
              "    </tr>\n",
              "    <tr>\n",
              "      <th>2806</th>\n",
              "      <td>2807</td>\n",
              "      <td>0</td>\n",
              "    </tr>\n",
              "    <tr>\n",
              "      <th>2807</th>\n",
              "      <td>2808</td>\n",
              "      <td>0</td>\n",
              "    </tr>\n",
              "    <tr>\n",
              "      <th>2808</th>\n",
              "      <td>2809</td>\n",
              "      <td>1</td>\n",
              "    </tr>\n",
              "    <tr>\n",
              "      <th>2809</th>\n",
              "      <td>2810</td>\n",
              "      <td>0</td>\n",
              "    </tr>\n",
              "    <tr>\n",
              "      <th>2810</th>\n",
              "      <td>2811</td>\n",
              "      <td>1</td>\n",
              "    </tr>\n",
              "    <tr>\n",
              "      <th>2811</th>\n",
              "      <td>2812</td>\n",
              "      <td>1</td>\n",
              "    </tr>\n",
              "    <tr>\n",
              "      <th>2812</th>\n",
              "      <td>2813</td>\n",
              "      <td>1</td>\n",
              "    </tr>\n",
              "    <tr>\n",
              "      <th>2813</th>\n",
              "      <td>2814</td>\n",
              "      <td>1</td>\n",
              "    </tr>\n",
              "    <tr>\n",
              "      <th>2814</th>\n",
              "      <td>2815</td>\n",
              "      <td>1</td>\n",
              "    </tr>\n",
              "    <tr>\n",
              "      <th>2815</th>\n",
              "      <td>2816</td>\n",
              "      <td>0</td>\n",
              "    </tr>\n",
              "    <tr>\n",
              "      <th>2816</th>\n",
              "      <td>2817</td>\n",
              "      <td>1</td>\n",
              "    </tr>\n",
              "    <tr>\n",
              "      <th>2817</th>\n",
              "      <td>2818</td>\n",
              "      <td>1</td>\n",
              "    </tr>\n",
              "  </tbody>\n",
              "</table>\n",
              "<p>2818 rows × 2 columns</p>\n",
              "</div>"
            ],
            "text/plain": [
              "        ID  prediction\n",
              "0        1           1\n",
              "1        2           0\n",
              "2        3           1\n",
              "3        4           0\n",
              "4        5           0\n",
              "5        6           1\n",
              "6        7           0\n",
              "7        8           1\n",
              "8        9           1\n",
              "9       10           0\n",
              "10      11           0\n",
              "11      12           1\n",
              "12      13           1\n",
              "13      14           0\n",
              "14      15           1\n",
              "15      16           1\n",
              "16      17           0\n",
              "17      18           1\n",
              "18      19           0\n",
              "19      20           1\n",
              "20      21           0\n",
              "21      22           1\n",
              "22      23           1\n",
              "23      24           1\n",
              "24      25           0\n",
              "25      26           0\n",
              "26      27           1\n",
              "27      28           0\n",
              "28      29           1\n",
              "29      30           1\n",
              "...    ...         ...\n",
              "2788  2789           1\n",
              "2789  2790           1\n",
              "2790  2791           1\n",
              "2791  2792           1\n",
              "2792  2793           1\n",
              "2793  2794           1\n",
              "2794  2795           1\n",
              "2795  2796           1\n",
              "2796  2797           1\n",
              "2797  2798           0\n",
              "2798  2799           0\n",
              "2799  2800           1\n",
              "2800  2801           0\n",
              "2801  2802           0\n",
              "2802  2803           0\n",
              "2803  2804           1\n",
              "2804  2805           0\n",
              "2805  2806           1\n",
              "2806  2807           0\n",
              "2807  2808           0\n",
              "2808  2809           1\n",
              "2809  2810           0\n",
              "2810  2811           1\n",
              "2811  2812           1\n",
              "2812  2813           1\n",
              "2813  2814           1\n",
              "2814  2815           1\n",
              "2815  2816           0\n",
              "2816  2817           1\n",
              "2817  2818           1\n",
              "\n",
              "[2818 rows x 2 columns]"
            ]
          },
          "metadata": {
            "tags": []
          },
          "execution_count": 236
        }
      ]
    },
    {
      "cell_type": "code",
      "metadata": {
        "id": "2gnp7gwKfwf6",
        "colab_type": "code",
        "colab": {}
      },
      "source": [
        "# e.g. save pandas output as csv\n",
        "dataset.to_csv('SVM.csv', index = False)\n",
        "\n",
        "# or any other file as usual\n",
        "# with open('example.csv', 'w') as f:\n",
        "#   f.write('your strings here')\n",
        "\n",
        "files.download('SVM.csv')"
      ],
      "execution_count": 0,
      "outputs": []
    },
    {
      "cell_type": "markdown",
      "metadata": {
        "id": "BypOY-DtV-th",
        "colab_type": "text"
      },
      "source": [
        "## **Learning curve method**"
      ]
    },
    {
      "cell_type": "code",
      "metadata": {
        "id": "t_LbsiOKUcLY",
        "colab_type": "code",
        "colab": {}
      },
      "source": [
        "# Plotting learning curve of the trained SVC classifier\n",
        "# Method found: \n",
        "# https://scikit-learn.org/stable/auto_examples/model_selection/plot_learning_curve.html#sphx-glr-auto-examples-model-selection-plot-learning-curve-py\n",
        "\n",
        "def plot_learning_curve(estimator, title, X, y, ylim=None, cv=None,\n",
        "                        n_jobs=None, train_sizes=np.linspace(.1, 1.0, 5)):\n",
        "    \"\"\"\n",
        "    Generate a simple plot of the test and training learning curve.\n",
        "\n",
        "    Parameters\n",
        "    ----------\n",
        "    estimator : object type that implements the \"fit\" and \"predict\" methods\n",
        "        An object of that type which is cloned for each validation.\n",
        "\n",
        "    title : string\n",
        "        Title for the chart.\n",
        "\n",
        "    X : array-like, shape (n_samples, n_features)\n",
        "        Training vector, where n_samples is the number of samples and\n",
        "        n_features is the number of features.\n",
        "\n",
        "    y : array-like, shape (n_samples) or (n_samples, n_features), optional\n",
        "        Target relative to X for classification or regression;\n",
        "        None for unsupervised learning.\n",
        "\n",
        "    ylim : tuple, shape (ymin, ymax), optional\n",
        "        Defines minimum and maximum yvalues plotted.\n",
        "\n",
        "    cv : int, cross-validation generator or an iterable, optional\n",
        "        Determines the cross-validation splitting strategy.\n",
        "        Possible inputs for cv are:\n",
        "          - None, to use the default 3-fold cross-validation,\n",
        "          - integer, to specify the number of folds.\n",
        "          - :term:`CV splitter`,\n",
        "          - An iterable yielding (train, test) splits as arrays of indices.\n",
        "\n",
        "        For integer/None inputs, if ``y`` is binary or multiclass,\n",
        "        :class:`StratifiedKFold` used. If the estimator is not a classifier\n",
        "        or if ``y`` is neither binary nor multiclass, :class:`KFold` is used.\n",
        "\n",
        "        Refer :ref:`User Guide <cross_validation>` for the various\n",
        "        cross-validators that can be used here.\n",
        "\n",
        "    n_jobs : int or None, optional (default=None)\n",
        "        Number of jobs to run in parallel.\n",
        "        ``None`` means 1 unless in a :obj:`joblib.parallel_backend` context.\n",
        "        ``-1`` means using all processors. See :term:`Glossary <n_jobs>`\n",
        "        for more details.\n",
        "\n",
        "    train_sizes : array-like, shape (n_ticks,), dtype float or int\n",
        "        Relative or absolute numbers of training examples that will be used to\n",
        "        generate the learning curve. If the dtype is float, it is regarded as a\n",
        "        fraction of the maximum size of the training set (that is determined\n",
        "        by the selected validation method), i.e. it has to be within (0, 1].\n",
        "        Otherwise it is interpreted as absolute sizes of the training sets.\n",
        "        Note that for classification the number of samples usually have to\n",
        "        be big enough to contain at least one sample from each class.\n",
        "        (default: np.linspace(0.1, 1.0, 5))\n",
        "    \"\"\"\n",
        "    plt.figure()\n",
        "    plt.title(title)\n",
        "    if ylim is not None:\n",
        "        plt.ylim(*ylim)\n",
        "    plt.xlabel(\"Training examples\")\n",
        "    plt.ylabel(\"Score\")\n",
        "    train_sizes, train_scores, test_scores = learning_curve(\n",
        "        estimator, X, y, cv=cv, n_jobs=n_jobs, train_sizes=train_sizes)\n",
        "    train_scores_mean = np.mean(train_scores, axis=1)\n",
        "    train_scores_std = np.std(train_scores, axis=1)\n",
        "    test_scores_mean = np.mean(test_scores, axis=1)\n",
        "    test_scores_std = np.std(test_scores, axis=1)\n",
        "    plt.grid()\n",
        "\n",
        "    plt.fill_between(train_sizes, train_scores_mean - train_scores_std,\n",
        "                     train_scores_mean + train_scores_std, alpha=0.1,\n",
        "                     color=\"r\")\n",
        "    plt.fill_between(train_sizes, test_scores_mean - test_scores_std,\n",
        "                     test_scores_mean + test_scores_std, alpha=0.1, color=\"g\")\n",
        "    plt.plot(train_sizes, train_scores_mean, 'o-', color=\"r\",\n",
        "             label=\"Training score\")\n",
        "    plt.plot(train_sizes, test_scores_mean, 'o-', color=\"g\",\n",
        "             label=\"Cross-validation score\")\n",
        "\n",
        "    plt.legend(loc=\"best\")\n",
        "    return plt"
      ],
      "execution_count": 0,
      "outputs": []
    },
    {
      "cell_type": "markdown",
      "metadata": {
        "id": "ZY7QK1-_xoql",
        "colab_type": "text"
      },
      "source": [
        "## **Plotting the learning curve**"
      ]
    },
    {
      "cell_type": "code",
      "metadata": {
        "id": "8xX5vRYuWgS3",
        "colab_type": "code",
        "outputId": "b06a2327-6574-41ec-8ba5-f1aa762d660b",
        "colab": {
          "base_uri": "https://localhost:8080/",
          "height": 295
        }
      },
      "source": [
        "# Plotting the learning curve of the classifier trained\n",
        "title = \"SVC Learning curve\"\n",
        "# Cross validation with 100 iterations to get smoother mean test and train\n",
        "# score curves, each time with 20% data randomly selected as a validation set.\n",
        "cv = ShuffleSplit(n_splits=50, test_size=0.2, random_state=0)\n",
        "\n",
        "plot_learning_curve(svc, title, X_res, y_res, ylim=(0, 1.01), cv=cv, n_jobs=-1)\n",
        "plt.savefig(\"learningcurve.png\")\n",
        "files.download(\"learningcurve.png\")\n",
        "plt.show()"
      ],
      "execution_count": 128,
      "outputs": [
        {
          "output_type": "display_data",
          "data": {
            "image/png": "[encoded data removed]",
            "text/plain": [
              "<Figure size 432x288 with 1 Axes>"
            ]
          },
          "metadata": {
            "tags": []
          }
        }
      ]
    },
    {
      "cell_type": "markdown",
      "metadata": {
        "id": "zUgqhSN4P4zz",
        "colab_type": "text"
      },
      "source": [
        "#**SVC Model with only CNN features**\n",
        "This was an investigation of training a support vector classifier with only the CNN features. The CNN features have a high dimensionality and are very descriptive in terms of image features. These next 19 cells are an implementation of a half split classifier model only using the CNN features. The GIST feature could also be used in the same manner. "
      ]
    },
    {
      "cell_type": "markdown",
      "metadata": {
        "id": "zQ2Idn52hvVr",
        "colab_type": "text"
      },
      "source": [
        "## **Data preparation**"
      ]
    },
    {
      "cell_type": "code",
      "metadata": {
        "id": "tLN23jFvP4Nw",
        "colab_type": "code",
        "colab": {}
      },
      "source": [
        "# List of CNN features\n",
        "cnnFeatures = []\n",
        "# Seperating each feature\n",
        "for feature in X:\n",
        "  cnnFeatures.append(feature[:4096])\n",
        "X = cnnFeatures\n",
        "# Splitting the test data\n",
        "testdata = testdata[:,:4096]"
      ],
      "execution_count": 0,
      "outputs": []
    },
    {
      "cell_type": "markdown",
      "metadata": {
        "id": "1ErCPwJRiB58",
        "colab_type": "text"
      },
      "source": [
        "## **Pre-processing - Normalization**"
      ]
    },
    {
      "cell_type": "code",
      "metadata": {
        "id": "l9b26EUfl6ob",
        "colab_type": "code",
        "colab": {}
      },
      "source": [
        "# Applying standard normalization to get optimized results\n",
        "transformer = Normalizer().fit(X)\n",
        "# Normalizing the X data\n",
        "X = transformer.transform(X)\n",
        "# Normalizing the test data\n",
        "testdata = transformer.transform(testdata)"
      ],
      "execution_count": 0,
      "outputs": []
    },
    {
      "cell_type": "markdown",
      "metadata": {
        "id": "N0SNGVgviGL0",
        "colab_type": "text"
      },
      "source": [
        "## **Undersampling the data**"
      ]
    },
    {
      "cell_type": "code",
      "metadata": {
        "id": "QvSdHaULQEdk",
        "colab_type": "code",
        "colab": {}
      },
      "source": [
        "rus = RandomUnderSampler(random_state=42)\n",
        "X_res, y_res = rus.fit_resample(X, y)\n",
        "print('Resampled dataset shape %s' % Counter(y_res))"
      ],
      "execution_count": 0,
      "outputs": []
    },
    {
      "cell_type": "markdown",
      "metadata": {
        "id": "SBlOUqtOiJXc",
        "colab_type": "text"
      },
      "source": [
        "## **Feature selection - PCA**"
      ]
    },
    {
      "cell_type": "code",
      "metadata": {
        "id": "yBcrMvULQF1k",
        "colab_type": "code",
        "colab": {}
      },
      "source": [
        "# Applying principal component analysis (PCA) to reduce the dimensionality of the training data set consisting of\n",
        "# a variation of values.\n",
        "\n",
        "pca = PCA(n_components=0.92, copy=True, whiten=False, svd_solver='auto', tol=0.0, iterated_power='auto', random_state=None)\n",
        "pca.fit(X_res)\n",
        "X_res = pca.transform(X_res)\n",
        "testdata = pca.transform(testdata)"
      ],
      "execution_count": 0,
      "outputs": []
    },
    {
      "cell_type": "markdown",
      "metadata": {
        "id": "a0ZCbMyficFx",
        "colab_type": "text"
      },
      "source": [
        "## **SVC classifier**"
      ]
    },
    {
      "cell_type": "code",
      "metadata": {
        "id": "XHR6HUSYQF3j",
        "colab_type": "code",
        "colab": {}
      },
      "source": [
        "# Fitting Kernel SVM to the Training set\n",
        "svc = SVC(C=1.0, kernel='linear', gamma=0.1) \n",
        "svc.fit(X_res, y_res) "
      ],
      "execution_count": 0,
      "outputs": []
    },
    {
      "cell_type": "code",
      "metadata": {
        "id": "WekXrM80QF5b",
        "colab_type": "code",
        "colab": {}
      },
      "source": [
        "# Predicting the Test set results\n",
        "y_pred = svc.predict(testdata)"
      ],
      "execution_count": 0,
      "outputs": []
    },
    {
      "cell_type": "markdown",
      "metadata": {
        "id": "wok0TPMWiigW",
        "colab_type": "text"
      },
      "source": [
        "## **Cross validation score**"
      ]
    },
    {
      "cell_type": "code",
      "metadata": {
        "id": "p2tUKAo_QF78",
        "colab_type": "code",
        "colab": {}
      },
      "source": [
        "# Returning the cross validation score using KFolds. \n",
        "scores = cross_val_score(svc, X_res, y_res.ravel(),cv=5, n_jobs=-1, verbose=10)\n",
        "print(mean(scores))"
      ],
      "execution_count": 0,
      "outputs": []
    },
    {
      "cell_type": "markdown",
      "metadata": {
        "id": "pxSlvnxdiyA4",
        "colab_type": "text"
      },
      "source": [
        "## **Preparing data for submission**"
      ]
    },
    {
      "cell_type": "code",
      "metadata": {
        "id": "3Z8N_G1JQF_r",
        "colab_type": "code",
        "colab": {}
      },
      "source": [
        "# Creating a nump list of integers from 1 - 2819\n",
        "ID = np.arange(1,2819)\n",
        "print(ID)"
      ],
      "execution_count": 0,
      "outputs": []
    },
    {
      "cell_type": "code",
      "metadata": {
        "id": "3qZF851tQGBz",
        "colab_type": "code",
        "colab": {}
      },
      "source": [
        "# Creating the pandas dataframe containing the ID values and the Prediction values\n",
        "# for Kaggle submission\n",
        "final = [int(x) for x in y_pred]\n",
        "dataset = pd.DataFrame({'ID':ID,'prediction':final})\n",
        "dataset"
      ],
      "execution_count": 0,
      "outputs": []
    },
    {
      "cell_type": "code",
      "metadata": {
        "id": "tK5oXrsBQNYc",
        "colab_type": "code",
        "colab": {}
      },
      "source": [
        "# e.g. save pandas output as csv\n",
        "dataset.to_csv('SVMcnnundersampled.csv', index = False)\n",
        "\n",
        "# or any other file as usual\n",
        "# with open('example.csv', 'w') as f:\n",
        "#   f.write('your strings here')\n",
        "\n",
        "files.download('SVMcnnundersampled.csv')"
      ],
      "execution_count": 0,
      "outputs": []
    },
    {
      "cell_type": "markdown",
      "metadata": {
        "id": "KnTLkv_1i02I",
        "colab_type": "text"
      },
      "source": [
        "## **Plotting the learning curve**"
      ]
    },
    {
      "cell_type": "code",
      "metadata": {
        "id": "c4b0miCtQPXb",
        "colab_type": "code",
        "colab": {}
      },
      "source": [
        "# Plotting the learning curve of the classifier trained\n",
        "title = \"Learning Curves\"\n",
        "# Cross validation with 100 iterations to get smoother mean test and train\n",
        "# score curves, each time with 20% data randomly selected as a validation set.\n",
        "cv = ShuffleSplit(n_splits=40, test_size=0.2, random_state=0)\n",
        "plt.savefig(\"learningcurve.png\")\n",
        "files.download(\"learningcurve.png\")\n",
        "plot_learning_curve(svc, title, X_res, y_res, ylim=(0.7, 1.01), cv=cv, n_jobs=-1)\n",
        "plt.show()"
      ],
      "execution_count": 0,
      "outputs": []
    }
  ]
}